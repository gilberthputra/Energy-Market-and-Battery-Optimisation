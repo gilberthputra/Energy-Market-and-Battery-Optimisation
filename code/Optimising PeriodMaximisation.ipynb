{
 "cells": [
  {
   "cell_type": "code",
   "execution_count": 1,
   "id": "bf4d55af",
   "metadata": {},
   "outputs": [],
   "source": [
    "import numpy as np\n",
    "import pandas as pd\n",
    "import math\n",
    "import time\n",
    "\n",
    "from collections import OrderedDict\n",
    "\n",
    "# IMPORT BATTERY CLASS\n",
    "from Battery import Battery\n",
    "\n",
    "import PeriodMaximisation as pm"
   ]
  },
  {
   "cell_type": "code",
   "execution_count": 3,
   "id": "c19f70c9",
   "metadata": {},
   "outputs": [],
   "source": [
    "df = pd.read_excel(\"../preprocessed_data/SM.xlsx\")"
   ]
  },
  {
   "cell_type": "code",
   "execution_count": 7,
   "id": "47ac494f",
   "metadata": {},
   "outputs": [],
   "source": [
    "timePeriod = np.array(getTimePeriod(df))\n",
    "a, b, count = timePeriod.max(axis = 0)"
   ]
  },
  {
   "cell_type": "code",
   "execution_count": 19,
   "id": "937d7d06",
   "metadata": {},
   "outputs": [
    {
     "data": {
      "text/plain": [
       "array([Timestamp('2020-03-18 00:30:00'), Timestamp('2020-03-29 00:00:00'),\n",
       "       528], dtype=object)"
      ]
     },
     "execution_count": 19,
     "metadata": {},
     "output_type": "execute_result"
    }
   ],
   "source": [
    "timePeriod[467]"
   ]
  },
  {
   "cell_type": "code",
   "execution_count": 18,
   "id": "2359ad09",
   "metadata": {},
   "outputs": [
    {
     "data": {
      "text/plain": [
       "467"
      ]
     },
     "execution_count": 18,
     "metadata": {},
     "output_type": "execute_result"
    }
   ],
   "source": [
    "np.argmax(timePeriod[:, 2])"
   ]
  },
  {
   "cell_type": "code",
   "execution_count": 34,
   "id": "fc5f7cfa",
   "metadata": {},
   "outputs": [],
   "source": [
    "test_start_period = '2018-01-19 00:30:00'\n",
    "test_end_period   = '2018-01-21 00:00:00'\n",
    "\n",
    "test_period = (df['Time (UTC+10)'] >= test_start_period) & \\\n",
    "               (df['Time (UTC+10)'] <= test_end_period)\n",
    "\n",
    "test_data = df[test_period].copy()\n",
    "test_data = test_data.reset_index(drop = True)"
   ]
  },
  {
   "cell_type": "code",
   "execution_count": 35,
   "id": "195c9a08",
   "metadata": {},
   "outputs": [
    {
     "data": {
      "text/html": [
       "<div>\n",
       "<style scoped>\n",
       "    .dataframe tbody tr th:only-of-type {\n",
       "        vertical-align: middle;\n",
       "    }\n",
       "\n",
       "    .dataframe tbody tr th {\n",
       "        vertical-align: top;\n",
       "    }\n",
       "\n",
       "    .dataframe thead th {\n",
       "        text-align: right;\n",
       "    }\n",
       "</style>\n",
       "<table border=\"1\" class=\"dataframe\">\n",
       "  <thead>\n",
       "    <tr style=\"text-align: right;\">\n",
       "      <th></th>\n",
       "      <th>Time (UTC+10)</th>\n",
       "      <th>Regions VIC Trading Price ($/MWh)</th>\n",
       "      <th>Raw Power (MW)</th>\n",
       "      <th>Market Dispatch (MWh)</th>\n",
       "      <th>Opening Capacity (MWh)</th>\n",
       "      <th>Closing Capacity (MWh)</th>\n",
       "    </tr>\n",
       "  </thead>\n",
       "  <tbody>\n",
       "    <tr>\n",
       "      <th>0</th>\n",
       "      <td>2018-01-19 00:30:00</td>\n",
       "      <td>85.61</td>\n",
       "      <td>0.0</td>\n",
       "      <td>0.0</td>\n",
       "      <td>0</td>\n",
       "      <td>0</td>\n",
       "    </tr>\n",
       "    <tr>\n",
       "      <th>1</th>\n",
       "      <td>2018-01-19 01:00:00</td>\n",
       "      <td>80.60</td>\n",
       "      <td>0.0</td>\n",
       "      <td>0.0</td>\n",
       "      <td>0</td>\n",
       "      <td>0</td>\n",
       "    </tr>\n",
       "    <tr>\n",
       "      <th>2</th>\n",
       "      <td>2018-01-19 01:30:00</td>\n",
       "      <td>64.45</td>\n",
       "      <td>-300.0</td>\n",
       "      <td>-150.0</td>\n",
       "      <td>0</td>\n",
       "      <td>135</td>\n",
       "    </tr>\n",
       "    <tr>\n",
       "      <th>3</th>\n",
       "      <td>2018-01-19 02:00:00</td>\n",
       "      <td>67.28</td>\n",
       "      <td>0.0</td>\n",
       "      <td>0.0</td>\n",
       "      <td>135</td>\n",
       "      <td>135</td>\n",
       "    </tr>\n",
       "    <tr>\n",
       "      <th>4</th>\n",
       "      <td>2018-01-19 02:30:00</td>\n",
       "      <td>66.06</td>\n",
       "      <td>-300.0</td>\n",
       "      <td>-150.0</td>\n",
       "      <td>135</td>\n",
       "      <td>270</td>\n",
       "    </tr>\n",
       "    <tr>\n",
       "      <th>...</th>\n",
       "      <td>...</td>\n",
       "      <td>...</td>\n",
       "      <td>...</td>\n",
       "      <td>...</td>\n",
       "      <td>...</td>\n",
       "      <td>...</td>\n",
       "    </tr>\n",
       "    <tr>\n",
       "      <th>91</th>\n",
       "      <td>2018-01-20 22:00:00</td>\n",
       "      <td>103.04</td>\n",
       "      <td>180.0</td>\n",
       "      <td>81.0</td>\n",
       "      <td>90</td>\n",
       "      <td>0</td>\n",
       "    </tr>\n",
       "    <tr>\n",
       "      <th>92</th>\n",
       "      <td>2018-01-20 22:30:00</td>\n",
       "      <td>82.38</td>\n",
       "      <td>0.0</td>\n",
       "      <td>0.0</td>\n",
       "      <td>0</td>\n",
       "      <td>0</td>\n",
       "    </tr>\n",
       "    <tr>\n",
       "      <th>93</th>\n",
       "      <td>2018-01-20 23:00:00</td>\n",
       "      <td>79.01</td>\n",
       "      <td>-300.0</td>\n",
       "      <td>-150.0</td>\n",
       "      <td>0</td>\n",
       "      <td>135</td>\n",
       "    </tr>\n",
       "    <tr>\n",
       "      <th>94</th>\n",
       "      <td>2018-01-20 23:30:00</td>\n",
       "      <td>92.67</td>\n",
       "      <td>0.0</td>\n",
       "      <td>0.0</td>\n",
       "      <td>135</td>\n",
       "      <td>135</td>\n",
       "    </tr>\n",
       "    <tr>\n",
       "      <th>95</th>\n",
       "      <td>2018-01-21 00:00:00</td>\n",
       "      <td>98.00</td>\n",
       "      <td>270.0</td>\n",
       "      <td>121.5</td>\n",
       "      <td>135</td>\n",
       "      <td>0</td>\n",
       "    </tr>\n",
       "  </tbody>\n",
       "</table>\n",
       "<p>96 rows × 6 columns</p>\n",
       "</div>"
      ],
      "text/plain": [
       "         Time (UTC+10)  Regions VIC Trading Price ($/MWh)  Raw Power (MW)  \\\n",
       "0  2018-01-19 00:30:00                              85.61             0.0   \n",
       "1  2018-01-19 01:00:00                              80.60             0.0   \n",
       "2  2018-01-19 01:30:00                              64.45          -300.0   \n",
       "3  2018-01-19 02:00:00                              67.28             0.0   \n",
       "4  2018-01-19 02:30:00                              66.06          -300.0   \n",
       "..                 ...                                ...             ...   \n",
       "91 2018-01-20 22:00:00                             103.04           180.0   \n",
       "92 2018-01-20 22:30:00                              82.38             0.0   \n",
       "93 2018-01-20 23:00:00                              79.01          -300.0   \n",
       "94 2018-01-20 23:30:00                              92.67             0.0   \n",
       "95 2018-01-21 00:00:00                              98.00           270.0   \n",
       "\n",
       "    Market Dispatch (MWh)  Opening Capacity (MWh)  Closing Capacity (MWh)  \n",
       "0                     0.0                       0                       0  \n",
       "1                     0.0                       0                       0  \n",
       "2                  -150.0                       0                     135  \n",
       "3                     0.0                     135                     135  \n",
       "4                  -150.0                     135                     270  \n",
       "..                    ...                     ...                     ...  \n",
       "91                   81.0                      90                       0  \n",
       "92                    0.0                       0                       0  \n",
       "93                 -150.0                       0                     135  \n",
       "94                    0.0                     135                     135  \n",
       "95                  121.5                     135                       0  \n",
       "\n",
       "[96 rows x 6 columns]"
      ]
     },
     "execution_count": 35,
     "metadata": {},
     "output_type": "execute_result"
    }
   ],
   "source": [
    "test_data"
   ]
  },
  {
   "cell_type": "code",
   "execution_count": 36,
   "id": "25a854be",
   "metadata": {},
   "outputs": [
    {
     "name": "stdout",
     "output_type": "stream",
     "text": [
      "Total time taken :1.8088560104370117\n"
     ]
    }
   ],
   "source": [
    "start = time.time()\n",
    "rp, md, oc, cc, rev = PeriodOptimisation2(test_data)\n",
    "end = time.time()\n",
    "print(f\"Total time taken :{end-start}\")"
   ]
  },
  {
   "cell_type": "code",
   "execution_count": 27,
   "id": "97d3756b",
   "metadata": {},
   "outputs": [],
   "source": [
    "import PeriodMaximisation as pm\n"
   ]
  },
  {
   "cell_type": "code",
   "execution_count": 37,
   "id": "cf454323",
   "metadata": {},
   "outputs": [
    {
     "name": "stdout",
     "output_type": "stream",
     "text": [
      "Total time taken :1.7724461555480957\n"
     ]
    }
   ],
   "source": [
    "start1 = time.time()\n",
    "data = fullMaximisation(test_data, len(test_data))\n",
    "end1 = time.time()\n",
    "print(f\"Total time taken :{end1-start1}\")"
   ]
  },
  {
   "cell_type": "code",
   "execution_count": 38,
   "id": "f2321789",
   "metadata": {},
   "outputs": [
    {
     "data": {
      "text/plain": [
       "2455689.1466054143"
      ]
     },
     "execution_count": 38,
     "metadata": {},
     "output_type": "execute_result"
    }
   ],
   "source": [
    "pm.computeRevenue(data)"
   ]
  },
  {
   "cell_type": "code",
   "execution_count": 39,
   "id": "ffd1d4c6",
   "metadata": {},
   "outputs": [
    {
     "data": {
      "text/html": [
       "<div>\n",
       "<style scoped>\n",
       "    .dataframe tbody tr th:only-of-type {\n",
       "        vertical-align: middle;\n",
       "    }\n",
       "\n",
       "    .dataframe tbody tr th {\n",
       "        vertical-align: top;\n",
       "    }\n",
       "\n",
       "    .dataframe thead th {\n",
       "        text-align: right;\n",
       "    }\n",
       "</style>\n",
       "<table border=\"1\" class=\"dataframe\">\n",
       "  <thead>\n",
       "    <tr style=\"text-align: right;\">\n",
       "      <th></th>\n",
       "      <th>Time (UTC+10)</th>\n",
       "      <th>Regions VIC Trading Price ($/MWh)</th>\n",
       "      <th>Raw Power (MW)</th>\n",
       "      <th>Market Dispatch (MWh)</th>\n",
       "      <th>Opening Capacity (MWh)</th>\n",
       "      <th>Closing Capacity (MWh)</th>\n",
       "      <th>Status</th>\n",
       "      <th>mlf</th>\n",
       "      <th>Revenue ($)</th>\n",
       "    </tr>\n",
       "  </thead>\n",
       "  <tbody>\n",
       "    <tr>\n",
       "      <th>0</th>\n",
       "      <td>2018-01-19 00:30:00</td>\n",
       "      <td>85.61</td>\n",
       "      <td>0.0</td>\n",
       "      <td>0.0</td>\n",
       "      <td>0.0</td>\n",
       "      <td>0.0</td>\n",
       "      <td>Nothing</td>\n",
       "      <td>0.000000</td>\n",
       "      <td>0.000000</td>\n",
       "    </tr>\n",
       "    <tr>\n",
       "      <th>1</th>\n",
       "      <td>2018-01-19 01:00:00</td>\n",
       "      <td>80.60</td>\n",
       "      <td>0.0</td>\n",
       "      <td>0.0</td>\n",
       "      <td>0.0</td>\n",
       "      <td>0.0</td>\n",
       "      <td>Nothing</td>\n",
       "      <td>0.000000</td>\n",
       "      <td>0.000000</td>\n",
       "    </tr>\n",
       "    <tr>\n",
       "      <th>2</th>\n",
       "      <td>2018-01-19 01:30:00</td>\n",
       "      <td>64.45</td>\n",
       "      <td>-300.0</td>\n",
       "      <td>-150.0</td>\n",
       "      <td>0.0</td>\n",
       "      <td>135.0</td>\n",
       "      <td>Charge</td>\n",
       "      <td>1.009082</td>\n",
       "      <td>-9755.297679</td>\n",
       "    </tr>\n",
       "    <tr>\n",
       "      <th>3</th>\n",
       "      <td>2018-01-19 02:00:00</td>\n",
       "      <td>67.28</td>\n",
       "      <td>0.0</td>\n",
       "      <td>0.0</td>\n",
       "      <td>135.0</td>\n",
       "      <td>135.0</td>\n",
       "      <td>Between</td>\n",
       "      <td>0.000000</td>\n",
       "      <td>0.000000</td>\n",
       "    </tr>\n",
       "    <tr>\n",
       "      <th>4</th>\n",
       "      <td>2018-01-19 02:30:00</td>\n",
       "      <td>66.06</td>\n",
       "      <td>-300.0</td>\n",
       "      <td>-150.0</td>\n",
       "      <td>135.0</td>\n",
       "      <td>270.0</td>\n",
       "      <td>Charge</td>\n",
       "      <td>1.009082</td>\n",
       "      <td>-9998.990918</td>\n",
       "    </tr>\n",
       "    <tr>\n",
       "      <th>...</th>\n",
       "      <td>...</td>\n",
       "      <td>...</td>\n",
       "      <td>...</td>\n",
       "      <td>...</td>\n",
       "      <td>...</td>\n",
       "      <td>...</td>\n",
       "      <td>...</td>\n",
       "      <td>...</td>\n",
       "      <td>...</td>\n",
       "    </tr>\n",
       "    <tr>\n",
       "      <th>91</th>\n",
       "      <td>2018-01-20 22:00:00</td>\n",
       "      <td>103.04</td>\n",
       "      <td>0.0</td>\n",
       "      <td>0.0</td>\n",
       "      <td>0.0</td>\n",
       "      <td>0.0</td>\n",
       "      <td>Nothing</td>\n",
       "      <td>0.000000</td>\n",
       "      <td>0.000000</td>\n",
       "    </tr>\n",
       "    <tr>\n",
       "      <th>92</th>\n",
       "      <td>2018-01-20 22:30:00</td>\n",
       "      <td>82.38</td>\n",
       "      <td>0.0</td>\n",
       "      <td>0.0</td>\n",
       "      <td>0.0</td>\n",
       "      <td>0.0</td>\n",
       "      <td>Nothing</td>\n",
       "      <td>0.000000</td>\n",
       "      <td>0.000000</td>\n",
       "    </tr>\n",
       "    <tr>\n",
       "      <th>93</th>\n",
       "      <td>2018-01-20 23:00:00</td>\n",
       "      <td>79.01</td>\n",
       "      <td>0.0</td>\n",
       "      <td>0.0</td>\n",
       "      <td>0.0</td>\n",
       "      <td>0.0</td>\n",
       "      <td>Nothing</td>\n",
       "      <td>0.000000</td>\n",
       "      <td>0.000000</td>\n",
       "    </tr>\n",
       "    <tr>\n",
       "      <th>94</th>\n",
       "      <td>2018-01-20 23:30:00</td>\n",
       "      <td>92.67</td>\n",
       "      <td>0.0</td>\n",
       "      <td>0.0</td>\n",
       "      <td>0.0</td>\n",
       "      <td>0.0</td>\n",
       "      <td>Nothing</td>\n",
       "      <td>0.000000</td>\n",
       "      <td>0.000000</td>\n",
       "    </tr>\n",
       "    <tr>\n",
       "      <th>95</th>\n",
       "      <td>2018-01-21 00:00:00</td>\n",
       "      <td>98.00</td>\n",
       "      <td>0.0</td>\n",
       "      <td>0.0</td>\n",
       "      <td>0.0</td>\n",
       "      <td>0.0</td>\n",
       "      <td>Nothing</td>\n",
       "      <td>0.000000</td>\n",
       "      <td>0.000000</td>\n",
       "    </tr>\n",
       "  </tbody>\n",
       "</table>\n",
       "<p>96 rows × 9 columns</p>\n",
       "</div>"
      ],
      "text/plain": [
       "         Time (UTC+10)  Regions VIC Trading Price ($/MWh)  Raw Power (MW)  \\\n",
       "0  2018-01-19 00:30:00                              85.61             0.0   \n",
       "1  2018-01-19 01:00:00                              80.60             0.0   \n",
       "2  2018-01-19 01:30:00                              64.45          -300.0   \n",
       "3  2018-01-19 02:00:00                              67.28             0.0   \n",
       "4  2018-01-19 02:30:00                              66.06          -300.0   \n",
       "..                 ...                                ...             ...   \n",
       "91 2018-01-20 22:00:00                             103.04             0.0   \n",
       "92 2018-01-20 22:30:00                              82.38             0.0   \n",
       "93 2018-01-20 23:00:00                              79.01             0.0   \n",
       "94 2018-01-20 23:30:00                              92.67             0.0   \n",
       "95 2018-01-21 00:00:00                              98.00             0.0   \n",
       "\n",
       "    Market Dispatch (MWh)  Opening Capacity (MWh)  Closing Capacity (MWh)  \\\n",
       "0                     0.0                     0.0                     0.0   \n",
       "1                     0.0                     0.0                     0.0   \n",
       "2                  -150.0                     0.0                   135.0   \n",
       "3                     0.0                   135.0                   135.0   \n",
       "4                  -150.0                   135.0                   270.0   \n",
       "..                    ...                     ...                     ...   \n",
       "91                    0.0                     0.0                     0.0   \n",
       "92                    0.0                     0.0                     0.0   \n",
       "93                    0.0                     0.0                     0.0   \n",
       "94                    0.0                     0.0                     0.0   \n",
       "95                    0.0                     0.0                     0.0   \n",
       "\n",
       "     Status       mlf  Revenue ($)  \n",
       "0   Nothing  0.000000     0.000000  \n",
       "1   Nothing  0.000000     0.000000  \n",
       "2    Charge  1.009082 -9755.297679  \n",
       "3   Between  0.000000     0.000000  \n",
       "4    Charge  1.009082 -9998.990918  \n",
       "..      ...       ...          ...  \n",
       "91  Nothing  0.000000     0.000000  \n",
       "92  Nothing  0.000000     0.000000  \n",
       "93  Nothing  0.000000     0.000000  \n",
       "94  Nothing  0.000000     0.000000  \n",
       "95  Nothing  0.000000     0.000000  \n",
       "\n",
       "[96 rows x 9 columns]"
      ]
     },
     "execution_count": 39,
     "metadata": {},
     "output_type": "execute_result"
    }
   ],
   "source": [
    "data"
   ]
  },
  {
   "cell_type": "code",
   "execution_count": 40,
   "id": "252ac934",
   "metadata": {},
   "outputs": [],
   "source": [
    "data.to_excel('example.xlsx', index = False)"
   ]
  },
  {
   "cell_type": "code",
   "execution_count": null,
   "id": "8371bd9b",
   "metadata": {},
   "outputs": [],
   "source": []
  }
 ],
 "metadata": {
  "kernelspec": {
   "display_name": "Python 3 (ipykernel)",
   "language": "python",
   "name": "python3"
  },
  "language_info": {
   "codemirror_mode": {
    "name": "ipython",
    "version": 3
   },
   "file_extension": ".py",
   "mimetype": "text/x-python",
   "name": "python",
   "nbconvert_exporter": "python",
   "pygments_lexer": "ipython3",
   "version": "3.7.11"
  },
  "varInspector": {
   "cols": {
    "lenName": 16,
    "lenType": 16,
    "lenVar": 40
   },
   "kernels_config": {
    "python": {
     "delete_cmd_postfix": "",
     "delete_cmd_prefix": "del ",
     "library": "var_list.py",
     "varRefreshCmd": "print(var_dic_list())"
    },
    "r": {
     "delete_cmd_postfix": ") ",
     "delete_cmd_prefix": "rm(",
     "library": "var_list.r",
     "varRefreshCmd": "cat(var_dic_list()) "
    }
   },
   "types_to_exclude": [
    "module",
    "function",
    "builtin_function_or_method",
    "instance",
    "_Feature"
   ],
   "window_display": false
  }
 },
 "nbformat": 4,
 "nbformat_minor": 5
}
